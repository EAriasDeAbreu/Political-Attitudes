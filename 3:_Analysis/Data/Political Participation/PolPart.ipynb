{
 "cells": [
  {
   "cell_type": "code",
   "execution_count": 7,
   "metadata": {},
   "outputs": [],
   "source": [
    "import pandas as pd\n",
    "import numpy as np"
   ]
  },
  {
   "cell_type": "markdown",
   "metadata": {},
   "source": [
    "## Load CEDE Data – 2003 onwards that shows political participation"
   ]
  },
  {
   "cell_type": "code",
   "execution_count": 8,
   "metadata": {},
   "outputs": [],
   "source": [
    "vote03 = pd.read_stata('/Users/edmundoarias/Documents/Uniandes/2024-10/HEC/CEDE Data/Concejo/2003_concejo.dta') \n",
    "vote07 = pd.read_stata('/Users/edmundoarias/Documents/Uniandes/2024-10/HEC/CEDE Data/Concejo/2007_concejo.dta') \n",
    "vote11 = pd.read_stata('/Users/edmundoarias/Documents/Uniandes/2024-10/HEC/CEDE Data/Concejo/2011_concejo.dta') \n",
    "vote15 = pd.read_stata('/Users/edmundoarias/Documents/Uniandes/2024-10/HEC/CEDE Data/Concejo/2015_concejo.dta') \n",
    "vote19 = pd.read_stata('/Users/edmundoarias/Documents/Uniandes/2024-10/HEC/CEDE Data/Concejo/2019_concejo.dta') "
   ]
  },
  {
   "cell_type": "code",
   "execution_count": 9,
   "metadata": {},
   "outputs": [],
   "source": [
    "# Append data\n",
    "appended_df = pd.concat([vote03, vote07, vote11, vote15, vote19], ignore_index=True)\n",
    "\n",
    "#Keep Voting Participation Variables\n",
    "keep = ['ano', 'coddpto', 'codmpio', 'municipio', 'primer_apellido', 'nombres', 'votos', 'censoe_mujeres', 'censoe_hombres', 'censoe_total']\n",
    "\n",
    "appended_df = appended_df[keep]"
   ]
  },
  {
   "cell_type": "code",
   "execution_count": 10,
   "metadata": {},
   "outputs": [],
   "source": [
    "# Pivot the table with additional census variables in the index\n",
    "data = appended_df.pivot_table(index=['codmpio', 'ano', 'censoe_mujeres', 'censoe_hombres', 'censoe_total'],\n",
    "                               columns='nombres', values='votos', fill_value=0)\n",
    "\n",
    "# Reset index to make all index columns regular columns\n",
    "data = data.reset_index()\n",
    "\n",
    "# List of specific parties or coalitions to keep, plus the census data columns\n",
    "parties_to_keep = [\n",
    "    \"PARTIDO LIBERAL COLOMBIANO\",\n",
    "    \"PARTIDO CONSERVADOR COLOMBIANO\",\n",
    "    \"PARTIDO CAMBIO RADICAL COLOMBIANO\",\n",
    "    \"PARTIDO COLOMBIA DEMOCRATICA\",\n",
    "    \"PARTIDO SOCIAL DE UNIDAD NACIONAL - PARTIDO DE LA U\",\n",
    "    \"PARTIDO CENTRO DEMOCRATICO - MANO FIRME CORAZON GRANDE\",\n",
    "    \"PARTIDO COLOMBIA HUMANA Y UNION PATRIOTICA\",\n",
    "    \"PARTIDO ALIANZA VERDE\",\n",
    "    \"POLO DEMOCRATICO INDEPENDIENTE - PDI\",\n",
    "    \"VOTOS EN BLANCO\"\n",
    "\n",
    "\n",
    "]\n",
    "\n",
    "# Ensure you are including the census data columns in the DataFrame to keep\n",
    "data = data[['codmpio', 'ano', 'censoe_mujeres', 'censoe_hombres', 'censoe_total'] + parties_to_keep]\n"
   ]
  },
  {
   "cell_type": "code",
   "execution_count": 11,
   "metadata": {},
   "outputs": [],
   "source": [
    "# Renaming\n",
    "rename_dict = {\n",
    "    'ano': 'periodo',\n",
    "    'codmpio': 'id'\n",
    "}\n",
    "\n",
    "# Rename the columns\n",
    "final_data_renamed = data.rename(columns=rename_dict)\n"
   ]
  },
  {
   "cell_type": "code",
   "execution_count": 12,
   "metadata": {},
   "outputs": [],
   "source": [
    "final_data_renamed['id'] = final_data_renamed['id'].astype(int).astype(str).str.zfill(5)"
   ]
  },
  {
   "cell_type": "code",
   "execution_count": 13,
   "metadata": {},
   "outputs": [],
   "source": [
    "# Set up a new name and send to excel\n",
    "PartPanel = final_data_renamed\n",
    "\n",
    "PartPanel.to_excel('/Users/edmundoarias/Documents/Uniandes/2024-10/HEC/Political-Attitudes/2:_ProcessedData/MergedData/Votos/PanelParticipacionMun.xlsx')"
   ]
  }
 ],
 "metadata": {
  "kernelspec": {
   "display_name": "base",
   "language": "python",
   "name": "python3"
  },
  "language_info": {
   "codemirror_mode": {
    "name": "ipython",
    "version": 3
   },
   "file_extension": ".py",
   "mimetype": "text/x-python",
   "name": "python",
   "nbconvert_exporter": "python",
   "pygments_lexer": "ipython3",
   "version": "3.11.5"
  }
 },
 "nbformat": 4,
 "nbformat_minor": 2
}
