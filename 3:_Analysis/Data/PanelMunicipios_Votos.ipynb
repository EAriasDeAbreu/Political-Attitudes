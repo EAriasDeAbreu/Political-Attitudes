{
 "cells": [
  {
   "cell_type": "code",
   "execution_count": 3,
   "metadata": {},
   "outputs": [],
   "source": [
    "import pandas as pd\n",
    "import numpy as np"
   ]
  },
  {
   "cell_type": "markdown",
   "metadata": {},
   "source": [
    "## Import Votes Data"
   ]
  },
  {
   "cell_type": "code",
   "execution_count": 4,
   "metadata": {},
   "outputs": [],
   "source": [
    "votes72 = pd.read_excel('/Users/edmundoarias/Documents/Uniandes/2024-10/HEC/Project/1:_RawData/Votes/1972_concejo.xlsx')\n",
    "votes74 = pd.read_excel('/Users/edmundoarias/Documents/Uniandes/2024-10/HEC/Project/1:_RawData/Votes/1974_concejo.xlsx')\n",
    "votes76 = pd.read_excel('/Users/edmundoarias/Documents/Uniandes/2024-10/HEC/Project/1:_RawData/Votes/1976_concejo.xlsx')\n",
    "votes78 = pd.read_excel('/Users/edmundoarias/Documents/Uniandes/2024-10/HEC/Project/1:_RawData/Votes/1978_concejo.xlsx')\n",
    "votes80 = pd.read_excel('/Users/edmundoarias/Documents/Uniandes/2024-10/HEC/Project/1:_RawData/Votes/1980_concejo.xlsx')\n",
    "votes82 = pd.read_excel('/Users/edmundoarias/Documents/Uniandes/2024-10/HEC/Project/1:_RawData/Votes/1982_concejo.xlsx')\n",
    "votes84 = pd.read_excel('/Users/edmundoarias/Documents/Uniandes/2024-10/HEC/Project/1:_RawData/Votes/1984_concejo.xlsx')\n",
    "votes86 = pd.read_excel('/Users/edmundoarias/Documents/Uniandes/2024-10/HEC/Project/1:_RawData/Votes/1986_concejo.xlsx')\n",
    "votes90 = pd.read_excel('/Users/edmundoarias/Documents/Uniandes/2024-10/HEC/Project/1:_RawData/Votes/1990_concejo.xlsx')\n"
   ]
  },
  {
   "cell_type": "code",
   "execution_count": 5,
   "metadata": {},
   "outputs": [],
   "source": [
    "keep = ['ano', 'coddpto', 'codmpio', 'municipio', 'primer_apellido', 'nombres', 'votos', 'curules']\n",
    "\n",
    "votes72 = votes72[keep]\n",
    "votes74 = votes74[keep]\n",
    "votes76 = votes76[keep]\n",
    "votes78 = votes78[keep]\n",
    "votes80 = votes80[keep]\n",
    "votes82 = votes82[keep]\n",
    "votes84 = votes84[keep]\n",
    "votes86 = votes86[keep]\n",
    "votes90 = votes90[keep]\n"
   ]
  },
  {
   "cell_type": "code",
   "execution_count": 6,
   "metadata": {},
   "outputs": [],
   "source": [
    "# Concatenate into a single df\n",
    "df = pd.concat([votes72, votes74, votes76, votes78, votes80, votes82, votes84, votes86, votes90], ignore_index=True)"
   ]
  },
  {
   "cell_type": "code",
   "execution_count": 7,
   "metadata": {},
   "outputs": [],
   "source": [
    "# Pivot the table\n",
    "data = df.pivot_table(index=['codmpio', 'ano'], columns='nombres', values='votos', fill_value=0)\n",
    "\n",
    "# Reset index to make 'codmpio' and 'ano' regular columns\n",
    "data = data.reset_index()\n",
    "\n",
    "# List of specific parties or coalitions to keep\n",
    "parties_to_keep = [\n",
    "    \"PARTIDO LIBERAL COLOMBIANO\",\n",
    "    \"PARTIDO CONSERVADOR COLOMBIANO\",\n",
    "    \"MOVIMIENTO NUEVO LIBERALISMO\",\n",
    "    \"OTROS PARTIDO O MOVIMIENTOS\",\n",
    "    \"ALIANZA NAL POPULAR ANAPO\",\n",
    "    \"UNION PATRIOTICA UP\",\n",
    "    \"PARTIDO PATRIA NUEVA\"\n",
    "]\n",
    "\n",
    "# Filter the columns based on the specified parties\n",
    "data = data[['codmpio', 'ano'] + parties_to_keep]\n"
   ]
  },
  {
   "cell_type": "code",
   "execution_count": 8,
   "metadata": {},
   "outputs": [],
   "source": [
    "# Filter the original dataset for \"VOTOS EN BLANCO\" and \"VOTOS NULOS\"\n",
    "votos_blancos_nulos = df[df['primer_apellido'].isin(['VOTOS EN BLANCO', 'VOTOS NULOS'])]\n",
    "\n",
    "# Pivot the filtered entries\n",
    "blancos_nulos_pivoted = votos_blancos_nulos.pivot_table(\n",
    "    index=['codmpio', 'ano'],\n",
    "    columns='primer_apellido',\n",
    "    values='votos',\n",
    "    fill_value=0\n",
    ").reset_index()\n",
    "\n",
    "# Merge with the previously filtered dataset\n",
    "final_data = pd.merge(data, blancos_nulos_pivoted, on=['codmpio', 'ano'], how='left').fillna(0)"
   ]
  },
  {
   "cell_type": "code",
   "execution_count": 9,
   "metadata": {},
   "outputs": [],
   "source": [
    "# Renaming\n",
    "rename_dict = {\n",
    "    'ano': 'periodo',\n",
    "    'codmpio': 'id'\n",
    "}\n",
    "\n",
    "# Rename the columns\n",
    "final_data_renamed = final_data.rename(columns=rename_dict)\n"
   ]
  },
  {
   "cell_type": "code",
   "execution_count": 10,
   "metadata": {},
   "outputs": [],
   "source": [
    "# Export to excel\n",
    "final_data_renamed.to_excel('/Users/edmundoarias/Documents/Uniandes/2024-10/HEC/Project/2:_ProcessedData/MergedData/Votos/PanelMunicipios_Votos.xlsx')"
   ]
  }
 ],
 "metadata": {
  "kernelspec": {
   "display_name": "base",
   "language": "python",
   "name": "python3"
  },
  "language_info": {
   "codemirror_mode": {
    "name": "ipython",
    "version": 3
   },
   "file_extension": ".py",
   "mimetype": "text/x-python",
   "name": "python",
   "nbconvert_exporter": "python",
   "pygments_lexer": "ipython3",
   "version": "3.11.5"
  }
 },
 "nbformat": 4,
 "nbformat_minor": 2
}
