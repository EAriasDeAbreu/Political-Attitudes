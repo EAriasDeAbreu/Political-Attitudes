{
 "cells": [
  {
   "cell_type": "code",
   "execution_count": 1,
   "metadata": {},
   "outputs": [
    {
     "name": "stderr",
     "output_type": "stream",
     "text": [
      "/Users/edmundoarias/anaconda3/lib/python3.11/site-packages/pandas/core/arrays/masked.py:60: UserWarning: Pandas requires version '1.3.6' or newer of 'bottleneck' (version '1.3.5' currently installed).\n",
      "  from pandas.core import (\n"
     ]
    }
   ],
   "source": [
    "import pandas as pd\n",
    "import numpy as np"
   ]
  },
  {
   "cell_type": "code",
   "execution_count": 2,
   "metadata": {},
   "outputs": [
    {
     "name": "stderr",
     "output_type": "stream",
     "text": [
      "/Users/edmundoarias/anaconda3/lib/python3.11/site-packages/openpyxl/styles/stylesheet.py:226: UserWarning: Workbook contains no default style, apply openpyxl's default\n",
      "  warn(\"Workbook contains no default style, apply openpyxl's default\")\n"
     ]
    }
   ],
   "source": [
    "df = pd.read_excel('/Users/edmundoarias/Documents/Uniandes/2024-10/HEC/Project/1:_RawData/Violence/VictimasSE_202309.xlsx')"
   ]
  },
  {
   "cell_type": "code",
   "execution_count": 3,
   "metadata": {},
   "outputs": [],
   "source": [
    "secuestros_por_municipio_y_año = df.groupby(['Municipio', 'Código DANE de Municipio', 'Departamento', 'Año']).size().reset_index(name='Numero de Secuestros')\n",
    "secuestros_por_municipio_y_año.rename(columns={'Código DANE de Municipio': 'Codmun', 'Numero de Secuestros': 'NumSecuestros'}, inplace=True)\n",
    "\n",
    "secuestros_por_municipio_y_año['Codmun'] = secuestros_por_municipio_y_año['Codmun'].astype(str)\n"
   ]
  },
  {
   "cell_type": "code",
   "execution_count": 4,
   "metadata": {},
   "outputs": [
    {
     "name": "stderr",
     "output_type": "stream",
     "text": [
      "/Users/edmundoarias/anaconda3/lib/python3.11/site-packages/openpyxl/styles/stylesheet.py:226: UserWarning: Workbook contains no default style, apply openpyxl's default\n",
      "  warn(\"Workbook contains no default style, apply openpyxl's default\")\n"
     ]
    }
   ],
   "source": [
    "df4 = pd.read_excel('/Users/edmundoarias/Documents/Uniandes/2024-10/HEC/Project/1:_RawData/Violence/VictimasAT_202309.xlsx')"
   ]
  },
  {
   "cell_type": "code",
   "execution_count": 5,
   "metadata": {},
   "outputs": [],
   "source": [
    "atentados_por_municipio_y_año = df4.groupby(['Municipio', 'Código DANE de Municipio', 'Departamento', 'Año']).size().reset_index(name='Número de Atentados Terroristas')\n",
    "\n",
    "atentados_por_municipio_y_año.rename(columns={'Código DANE de Municipio': 'Codmun', 'Número de Atentados Terroristas': 'NumATerror'}, inplace=True)\n",
    "atentados_por_municipio_y_año['Codmun'] = atentados_por_municipio_y_año['Codmun'].astype(str)"
   ]
  },
  {
   "cell_type": "code",
   "execution_count": 6,
   "metadata": {},
   "outputs": [
    {
     "name": "stderr",
     "output_type": "stream",
     "text": [
      "/Users/edmundoarias/anaconda3/lib/python3.11/site-packages/openpyxl/styles/stylesheet.py:226: UserWarning: Workbook contains no default style, apply openpyxl's default\n",
      "  warn(\"Workbook contains no default style, apply openpyxl's default\")\n"
     ]
    }
   ],
   "source": [
    "df5 = pd.read_excel('/Users/edmundoarias/Documents/Uniandes/2024-10/HEC/Project/1:_RawData/Violence/VictimasAS_202309.xlsx')"
   ]
  },
  {
   "cell_type": "code",
   "execution_count": 7,
   "metadata": {},
   "outputs": [],
   "source": [
    "AS_por_municipio_y_año = df5.groupby(['Municipio', 'Código DANE de Municipio', 'Departamento', 'Año']).size().reset_index(name='Número de Asesinatos Selectivos')\n",
    "\n",
    "AS_por_municipio_y_año.rename(columns={'Código DANE de Municipio': 'Codmun', 'Número de Asesinatos Selectivos': 'NumASelect'}, inplace=True)\n",
    "AS_por_municipio_y_año['Codmun'] = atentados_por_municipio_y_año['Codmun'].astype(str)"
   ]
  },
  {
   "cell_type": "code",
   "execution_count": 8,
   "metadata": {},
   "outputs": [
    {
     "name": "stderr",
     "output_type": "stream",
     "text": [
      "/Users/edmundoarias/anaconda3/lib/python3.11/site-packages/openpyxl/styles/stylesheet.py:226: UserWarning: Workbook contains no default style, apply openpyxl's default\n",
      "  warn(\"Workbook contains no default style, apply openpyxl's default\")\n"
     ]
    }
   ],
   "source": [
    "df6 = pd.read_excel('/Users/edmundoarias/Documents/Uniandes/2024-10/HEC/Project/1:_RawData/Violence/VictimasAP_202309.xlsx')"
   ]
  },
  {
   "cell_type": "code",
   "execution_count": 9,
   "metadata": {},
   "outputs": [],
   "source": [
    "AP_por_municipio_y_año = df6.groupby(['Municipio', 'Código DANE de Municipio', 'Departamento', 'Año']).size().reset_index(name='Número de Ataques a Poblaciones')\n",
    "\n",
    "AP_por_municipio_y_año.rename(columns={'Código DANE de Municipio': 'Codmun', 'Número de Ataques a Poblaciones': 'NumAPob'}, inplace=True)\n",
    "AP_por_municipio_y_año['Codmun'] = atentados_por_municipio_y_año['Codmun'].astype(str)"
   ]
  },
  {
   "cell_type": "code",
   "execution_count": 10,
   "metadata": {},
   "outputs": [
    {
     "name": "stderr",
     "output_type": "stream",
     "text": [
      "/Users/edmundoarias/anaconda3/lib/python3.11/site-packages/openpyxl/styles/stylesheet.py:226: UserWarning: Workbook contains no default style, apply openpyxl's default\n",
      "  warn(\"Workbook contains no default style, apply openpyxl's default\")\n"
     ]
    }
   ],
   "source": [
    "df7 = pd.read_excel('/Users/edmundoarias/Documents/Uniandes/2024-10/HEC/Project/1:_RawData/Violence/VictimasAB_202309.xlsx')"
   ]
  },
  {
   "cell_type": "code",
   "execution_count": 11,
   "metadata": {},
   "outputs": [],
   "source": [
    "AB_por_municipio_y_año = df7.groupby(['Municipio', 'Código DANE de Municipio', 'Departamento', 'Año']).size().reset_index(name='Número de Acciones Belicas')\n",
    "\n",
    "AB_por_municipio_y_año.rename(columns={'Código DANE de Municipio': 'Codmun', 'Número de Acciones Belicas': 'NumABel'}, inplace=True)\n",
    "AB_por_municipio_y_año['Codmun'] = atentados_por_municipio_y_año['Codmun'].astype(str)"
   ]
  },
  {
   "cell_type": "markdown",
   "metadata": {},
   "source": [
    "# Panel"
   ]
  },
  {
   "cell_type": "code",
   "execution_count": 12,
   "metadata": {},
   "outputs": [],
   "source": [
    "# List all municipios – DANE Codes\n",
    "codes = pd.read_excel('/Users/edmundoarias/Documents/Uniandes/2024-10/HEC/Project/1:_RawData/CodMunicipiosDANE.xlsx')"
   ]
  },
  {
   "cell_type": "code",
   "execution_count": 13,
   "metadata": {},
   "outputs": [],
   "source": [
    "# Set relevant years to study\n",
    "years = pd.DataFrame({'Año': np.arange(1955, 2023)})\n",
    "\n",
    "# Crear el conjunto de datos de panel cruzando los municipios con los años\n",
    "# Usamos una técnica de 'merge' para crear el producto cartesiano\n",
    "panel_data = codes.assign(key=1).merge(years.assign(key=1), on='key').drop('key', axis=1)\n",
    "panel_data['Codmun'] = panel_data['Codmun'].astype(str)"
   ]
  },
  {
   "cell_type": "markdown",
   "metadata": {},
   "source": [
    "## Merging Data"
   ]
  },
  {
   "cell_type": "markdown",
   "metadata": {},
   "source": [
    "### 1. Secuestros"
   ]
  },
  {
   "cell_type": "code",
   "execution_count": 14,
   "metadata": {},
   "outputs": [],
   "source": [
    "column_to_merge = 'NumSecuestros'\n",
    "panel_data = panel_data.merge(secuestros_por_municipio_y_año[['Codmun', 'Año', column_to_merge]], on=['Codmun', 'Año'], how='left')"
   ]
  },
  {
   "cell_type": "code",
   "execution_count": 15,
   "metadata": {},
   "outputs": [],
   "source": [
    "panel_data['NumSecuestros'] = panel_data['NumSecuestros'].fillna(0)"
   ]
  },
  {
   "cell_type": "markdown",
   "metadata": {},
   "source": [
    "### 2. Atentados Terroristas"
   ]
  },
  {
   "cell_type": "code",
   "execution_count": 16,
   "metadata": {},
   "outputs": [],
   "source": [
    "column_to_merge = 'NumATerror'\n",
    "panel_data = panel_data.merge(atentados_por_municipio_y_año[['Codmun', 'Año', column_to_merge]], on=['Codmun', 'Año'], how='left')"
   ]
  },
  {
   "cell_type": "code",
   "execution_count": 17,
   "metadata": {},
   "outputs": [],
   "source": [
    "panel_data['NumATerror'] = panel_data['NumATerror'].fillna(0)"
   ]
  },
  {
   "cell_type": "markdown",
   "metadata": {},
   "source": [
    "### 3. Asesinatos Selectivos"
   ]
  },
  {
   "cell_type": "code",
   "execution_count": 18,
   "metadata": {},
   "outputs": [],
   "source": [
    "column_to_merge = 'NumASelect'\n",
    "panel_data = panel_data.merge(AS_por_municipio_y_año[['Codmun', 'Año', column_to_merge]], on=['Codmun', 'Año'], how='left')"
   ]
  },
  {
   "cell_type": "code",
   "execution_count": 19,
   "metadata": {},
   "outputs": [],
   "source": [
    "panel_data['NumASelect'] = panel_data['NumASelect'].fillna(0)"
   ]
  },
  {
   "cell_type": "markdown",
   "metadata": {},
   "source": [
    "### 4. Ataques a Poblaciones"
   ]
  },
  {
   "cell_type": "code",
   "execution_count": 20,
   "metadata": {},
   "outputs": [],
   "source": [
    "column_to_merge = 'NumAPob'\n",
    "panel_data = panel_data.merge(AP_por_municipio_y_año[['Codmun', 'Año', column_to_merge]], on=['Codmun', 'Año'], how='left')"
   ]
  },
  {
   "cell_type": "code",
   "execution_count": 21,
   "metadata": {},
   "outputs": [],
   "source": [
    "panel_data['NumAPob'] = panel_data['NumAPob'].fillna(0)"
   ]
  },
  {
   "cell_type": "markdown",
   "metadata": {},
   "source": [
    "### 5. Acciones Bélicas"
   ]
  },
  {
   "cell_type": "code",
   "execution_count": 22,
   "metadata": {},
   "outputs": [],
   "source": [
    "column_to_merge = 'NumABel'\n",
    "panel_data = panel_data.merge(AB_por_municipio_y_año[['Codmun', 'Año', column_to_merge]], on=['Codmun', 'Año'], how='left')"
   ]
  },
  {
   "cell_type": "code",
   "execution_count": 23,
   "metadata": {},
   "outputs": [],
   "source": [
    "panel_data['NumABel'] = panel_data['NumABel'].fillna(0)"
   ]
  },
  {
   "cell_type": "code",
   "execution_count": 24,
   "metadata": {},
   "outputs": [],
   "source": [
    "panel_data.to_excel('/Users/edmundoarias/Documents/Uniandes/2024-10/HEC/Project/2:_ProcessedData/MergedData/Violence/PanelMunicipios_Violencia.xlsx')"
   ]
  }
 ],
 "metadata": {
  "kernelspec": {
   "display_name": "base",
   "language": "python",
   "name": "python3"
  },
  "language_info": {
   "codemirror_mode": {
    "name": "ipython",
    "version": 3
   },
   "file_extension": ".py",
   "mimetype": "text/x-python",
   "name": "python",
   "nbconvert_exporter": "python",
   "pygments_lexer": "ipython3",
   "version": "3.11.5"
  }
 },
 "nbformat": 4,
 "nbformat_minor": 2
}
